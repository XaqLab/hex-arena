{
 "cells": [
  {
   "cell_type": "code",
   "execution_count": 1,
   "id": "79442492-e136-4564-8b79-43c00d108f3d",
   "metadata": {},
   "outputs": [],
   "source": [
    "%matplotlib inline\n",
    "import matplotlib as mpl\n",
    "import matplotlib.pyplot as plt\n",
    "from matplotlib.animation import FuncAnimation\n",
    "plt.rcParams.update({\n",
    "    'figure.figsize': (4.8, 2.7), 'font.size': 15, 'lines.linewidth': 2,\n",
    "    'xtick.labelsize': 'small', 'ytick.labelsize': 'small',\n",
    "    'axes.spines.top': False, 'axes.spines.right': False,\n",
    "    'savefig.dpi': 100,\n",
    "})\n",
    "\n",
    "import os\n",
    "import torch\n",
    "from pathlib import Path\n",
    "import numpy as np\n",
    "from jarvis.utils import tqdm\n",
    "\n",
    "FIG_DIR = Path('figures')\n",
    "os.makedirs(FIG_DIR, exist_ok=True)\n",
    "rng = np.random.default_rng()"
   ]
  },
  {
   "cell_type": "raw",
   "id": "7b033d09-9477-4d48-ae60-1e1ad40efd50",
   "metadata": {},
   "source": [
    "from hexarena.scripts.identify_policies import create_manager\n",
    "\n",
    "subject, kappa, num_samples = 'marco', 0.1, 1000\n",
    "manager = create_manager(subject, kappa, num_samples, read_only=True)"
   ]
  },
  {
   "cell_type": "code",
   "execution_count": 2,
   "id": "640ab22b-fd03-479f-b40e-c7ee2649101d",
   "metadata": {},
   "outputs": [
    {
     "data": {
      "application/vnd.jupyter.widget-view+json": {
       "model_id": "7cc6a74dc559448ebe1ca12405698d5f",
       "version_major": 2,
       "version_minor": 0
      },
      "text/plain": [
       "  0%|                                                                                                         …"
      ]
     },
     "metadata": {},
     "output_type": "display_data"
    }
   ],
   "source": [
    "from hexarena.scripts.train_nets import create_manager\n",
    "\n",
    "manager = create_manager('viktor', 0.1, 1000)\n"
   ]
  },
  {
   "cell_type": "code",
   "execution_count": 3,
   "id": "b0061963-1d86-405a-b292-12753a063fc7",
   "metadata": {},
   "outputs": [],
   "source": [
    "keys = [key for key, _ in manager.completed()]"
   ]
  },
  {
   "cell_type": "code",
   "execution_count": 38,
   "id": "98280cbc-abf3-488b-a29f-889ff21c51cb",
   "metadata": {},
   "outputs": [
    {
     "data": {
      "text/plain": [
       "{'subject': 'viktor',\n",
       " 'num_samples': 1000,\n",
       " 'update_kw': {'z_reg': 0.0001, 'num_epochs': 50},\n",
       " 'model_kw': {'z_dim': 64},\n",
       " 'seed': 2,\n",
       " 'kappa': 0.1,\n",
       " 'init_kw': {'z_reg': 0.0001, 'num_epochs': 200}}"
      ]
     },
     "execution_count": 38,
     "metadata": {},
     "output_type": "execute_result"
    }
   ],
   "source": [
    "key = 'B705C5CB'\n",
    "config = manager.configs[key]\n",
    "config"
   ]
  },
  {
   "cell_type": "code",
   "execution_count": 23,
   "id": "b0c4d72a-8ae1-4637-8a13-c9b41276bdf8",
   "metadata": {},
   "outputs": [
    {
     "data": {
      "text/plain": [
       "1"
      ]
     },
     "execution_count": 23,
     "metadata": {},
     "output_type": "execute_result"
    }
   ],
   "source": [
    "manager.setup(config)"
   ]
  },
  {
   "cell_type": "code",
   "execution_count": 24,
   "id": "93076d82-fa33-451a-b09c-bce8864b2771",
   "metadata": {},
   "outputs": [
    {
     "data": {
      "text/plain": [
       "1"
      ]
     },
     "execution_count": 24,
     "metadata": {},
     "output_type": "execute_result"
    }
   ],
   "source": [
    "manager.load_ckpt(manager.ckpts[key])"
   ]
  },
  {
   "cell_type": "code",
   "execution_count": 28,
   "id": "c82a793d-349f-4105-92f7-16f714d9ab69",
   "metadata": {},
   "outputs": [],
   "source": [
    "observations = manager.observations\n",
    "actions = manager.actions\n",
    "beliefs = manager.beliefs"
   ]
  },
  {
   "cell_type": "code",
   "execution_count": 29,
   "id": "d68ff98f-c294-4bf8-a16b-59c1b3871ae3",
   "metadata": {},
   "outputs": [],
   "source": [
    "num_episodes = len(beliefs)\n",
    "# split full observations and convert to tensors\n",
    "assert len(observations)==num_episodes\n",
    "k_tensors = [[] for _ in range(num_episodes)]\n",
    "o_tensors = [[] for _ in range(num_episodes)]\n",
    "for i in range(num_episodes):\n",
    "    for observation in observations[i]:\n",
    "        k, o = manager.model.split_observation(observation)\n",
    "        k_tensors[i].append(manager.model._k_tensor(k))\n",
    "        o_tensors[i].append(manager.model._o_tensor(o))\n",
    "    k_tensors[i] = torch.stack(k_tensors[i])\n",
    "    o_tensors[i] = torch.stack(o_tensors[i])\n",
    "# convert actions to tensors\n",
    "assert len(actions)==num_episodes\n",
    "a_tensors = []\n",
    "for i in range(len(actions)):\n",
    "    a_tensors.append(torch.stack([\n",
    "        manager.model._a_tensor(action) for action in actions[i]\n",
    "    ]))\n",
    "# remove gradient information if any\n",
    "beliefs = [beliefs[i].data for i in range(num_episodes)]"
   ]
  },
  {
   "cell_type": "code",
   "execution_count": 30,
   "id": "66c9c70b-550c-4e3d-b0d4-67554dcb04c0",
   "metadata": {},
   "outputs": [],
   "source": [
    "k_t = torch.cat([k_tensors[i][:-1] for i in range(num_episodes)])\n",
    "b_t = torch.cat([beliefs[i][:-1] for i in range(num_episodes)])\n",
    "a_t = torch.cat(a_tensors)\n",
    "k_tp1 = torch.cat([k_tensors[i][1:] for i in range(num_episodes)])\n",
    "o_tp1 = torch.cat([o_tensors[i][1:] for i in range(num_episodes)])\n",
    "b_tp1 = torch.cat([beliefs[i][1:] for i in range(num_episodes)])"
   ]
  },
  {
   "cell_type": "code",
   "execution_count": 34,
   "id": "7c5af623-65ea-409a-a208-290d2705709d",
   "metadata": {},
   "outputs": [],
   "source": [
    "with torch.no_grad():\n",
    "    *_, preds = manager.model.update_net(\n",
    "        torch.cat([k_t, b_t, a_t, k_tp1, o_tp1], dim=1),\n",
    "    )\n",
    "kl_losses = []\n",
    "for i in range(len(preds)):\n",
    "    d, ent = manager.model.update_net.p_x.kl_divergence(b_tp1[i], preds[i])\n",
    "    kl_losses.append(d)\n",
    "kl_losses = torch.stack(kl_losses)"
   ]
  },
  {
   "cell_type": "code",
   "execution_count": 36,
   "id": "acfd064d-ee9b-48e5-ad68-da3773ca0cb3",
   "metadata": {},
   "outputs": [
    {
     "data": {
      "text/plain": [
       "tensor(5.5765)"
      ]
     },
     "execution_count": 36,
     "metadata": {},
     "output_type": "execute_result"
    }
   ],
   "source": [
    "kl_losses.mean()"
   ]
  },
  {
   "cell_type": "code",
   "execution_count": 37,
   "id": "5e0c267a-7905-4c6e-a42b-2ca66dd39626",
   "metadata": {},
   "outputs": [
    {
     "data": {
      "text/plain": [
       "{'subject': 'viktor',\n",
       " 'num_samples': 1000,\n",
       " 'update_kw': {'num_epochs': 300, 'z_reg': 0.0001},\n",
       " 'seed': 0,\n",
       " 'kappa': 0.1,\n",
       " 'init_kw': {'z_reg': 0.0001, 'num_epochs': 200},\n",
       " 'model_kw': {'z_dim': 8}}"
      ]
     },
     "execution_count": 37,
     "metadata": {},
     "output_type": "execute_result"
    }
   ],
   "source": [
    "config"
   ]
  },
  {
   "cell_type": "code",
   "execution_count": null,
   "id": "ca2b17ad-ce10-47c8-9202-0ee0aa0c1479",
   "metadata": {},
   "outputs": [],
   "source": []
  },
  {
   "cell_type": "code",
   "execution_count": 18,
   "id": "656aede4-5232-40d7-b95f-81d04e80b053",
   "metadata": {},
   "outputs": [
    {
     "data": {
      "text/plain": [
       "dict_keys(['state_dict', 'stats_u', 'stats_i'])"
      ]
     },
     "execution_count": 18,
     "metadata": {},
     "output_type": "execute_result"
    }
   ],
   "source": [
    "from jarvis.utils import array2tensor\n",
    "\n",
    "ckpt = array2tensor(manager.ckpts[key])\n",
    "ckpt.keys()"
   ]
  },
  {
   "cell_type": "code",
   "execution_count": 22,
   "id": "f7d1a5b7-9cf3-4998-bb6d-336a4977e795",
   "metadata": {},
   "outputs": [
    {
     "data": {
      "image/png": "[encoded data removed]",
      "text/plain": [
       "<Figure size 480x270 with 1 Axes>"
      ]
     },
     "metadata": {},
     "output_type": "display_data"
    }
   ],
   "source": [
    "losses_train = ckpt['stats_u']['losses_train'][:, 0]\n",
    "losses_val = ckpt['stats_u']['losses_val'][:, 0]\n",
    "_, ax = plt.subplots()\n",
    "ax.plot(losses_train)\n",
    "ax.plot(losses_val)\n",
    "plt.show()"
   ]
  },
  {
   "cell_type": "code",
   "execution_count": 8,
   "id": "4a321b07-b511-429b-8010-ca4eaf10a07c",
   "metadata": {},
   "outputs": [],
   "source": [
    "observations = manager.observations\n",
    "actions = manager.actions\n",
    "beliefs = manager.beliefs\n",
    "strict_init = True\n",
    "update_kw = manager.train_kw['update_kw']\n",
    "init_kw = manager.train_kw['init_kw']\n",
    "\n",
    "num_episodes = len(beliefs)\n",
    "# split full observations and convert to tensors\n",
    "assert len(observations)==num_episodes\n",
    "k_tensors = [[] for _ in range(num_episodes)]\n",
    "o_tensors = [[] for _ in range(num_episodes)]\n",
    "for i in range(num_episodes):\n",
    "    for observation in observations[i]:\n",
    "        k, o = manager.model.split_observation(observation)\n",
    "        k_tensors[i].append(manager.model._k_tensor(k))\n",
    "        o_tensors[i].append(manager.model._o_tensor(o))\n",
    "    k_tensors[i] = torch.stack(k_tensors[i])\n",
    "    o_tensors[i] = torch.stack(o_tensors[i])\n",
    "# convert actions to tensors\n",
    "assert len(actions)==num_episodes\n",
    "a_tensors = []\n",
    "for i in range(len(actions)):\n",
    "    a_tensors.append(torch.stack([\n",
    "        manager.model._a_tensor(action) for action in actions[i]\n",
    "    ]))\n",
    "# remove gradient information if any\n",
    "beliefs = [beliefs[i].data for i in range(num_episodes)]"
   ]
  },
  {
   "cell_type": "raw",
   "id": "397dc66e-90f2-4628-8384-f2df32ce2d17",
   "metadata": {},
   "source": [
    "from jarvis.config import Config\n",
    "\n",
    "# train update_net\n",
    "k_t = torch.cat([k_tensors[i][:-1] for i in range(num_episodes)])\n",
    "b_t = torch.cat([beliefs[i][:-1] for i in range(num_episodes)])\n",
    "a_t = torch.cat(a_tensors)\n",
    "k_tp1 = torch.cat([k_tensors[i][1:] for i in range(num_episodes)])\n",
    "o_tp1 = torch.cat([o_tensors[i][1:] for i in range(num_episodes)])\n",
    "b_tp1 = torch.cat([beliefs[i][1:] for i in range(num_episodes)])\n",
    "stats_u = manager.model.update_net.regress(\n",
    "    b_tp1, torch.cat([k_t, b_t, a_t, k_tp1, o_tp1], dim=1), **Config(update_kw),\n",
    ")"
   ]
  },
  {
   "cell_type": "code",
   "execution_count": 10,
   "id": "3bc6e1f9-c531-47cd-bb68-485ffe247422",
   "metadata": {},
   "outputs": [
    {
     "data": {
      "application/vnd.jupyter.widget-view+json": {
       "model_id": "6402bd4ba79842179981999d3dde9614",
       "version_major": 2,
       "version_minor": 0
      },
      "text/plain": [
       "  0%|                                                                                                         …"
      ]
     },
     "metadata": {},
     "output_type": "display_data"
    }
   ],
   "source": [
    "if strict_init: # only the first time step of each episode is used\n",
    "    k_0 = torch.stack([k_tensors[i][0] for i in range(num_episodes)])\n",
    "    o_0 = torch.stack([o_tensors[i][0] for i in range(num_episodes)])\n",
    "    b_0 = torch.stack([beliefs[i][0] for i in range(num_episodes)])\n",
    "else:\n",
    "    k_0 = torch.cat(k_tensors)\n",
    "    o_0 = torch.cat(o_tensors)\n",
    "    b_0 = torch.cat(beliefs)\n",
    "stats_i = manager.model.init_net.regress(\n",
    "    b_0, torch.cat([k_0, o_0], dim=1), train_decoder=False, **init_kw,\n",
    ")"
   ]
  },
  {
   "cell_type": "code",
   "execution_count": null,
   "id": "57b1a197-a727-4509-ad4c-beb2d0330bbd",
   "metadata": {},
   "outputs": [],
   "source": [
    "from jarvis.utils import array2tensor\n",
    "\n",
    "ckpt = array2tensor(manager.ckpts[key])"
   ]
  },
  {
   "cell_type": "code",
   "execution_count": 17,
   "id": "c18a8a01-c56f-4183-a715-3672b1184953",
   "metadata": {},
   "outputs": [
    {
     "data": {
      "text/plain": [
       "{'num_epochs': 200, 'z_reg': 0.0001}"
      ]
     },
     "execution_count": 17,
     "metadata": {},
     "output_type": "execute_result"
    }
   ],
   "source": [
    "init_kw"
   ]
  },
  {
   "cell_type": "code",
   "execution_count": 12,
   "id": "682a139d-c940-4132-aacf-f2bd61d01cfe",
   "metadata": {},
   "outputs": [
    {
     "data": {
      "image/png": "[encoded data removed]",
      "text/plain": [
       "<Figure size 480x270 with 1 Axes>"
      ]
     },
     "metadata": {},
     "output_type": "display_data"
    }
   ],
   "source": [
    "_, ax = plt.subplots()\n",
    "n_epochs = len(ckpt['losses']['train'])\n",
    "ax.plot(np.arange(n_epochs)+1, ckpt['losses']['train'])\n",
    "ax.plot(np.arange(n_epochs)+1, ckpt['losses']['val'])\n",
    "ax.plot(np.arange(n_epochs)+1, ckpt['losses']['test'])\n",
    "plt.show()"
   ]
  },
  {
   "cell_type": "code",
   "execution_count": 3,
   "id": "b95ede9a-1b46-4693-84c8-3cc9af60cc26",
   "metadata": {},
   "outputs": [],
   "source": [
    "from hexarena.scripts.train_nets import fetch_best_net\n",
    "\n",
    "subject = 'marco'\n",
    "config, model = fetch_best_net(subject, kappa, num_samples)"
   ]
  },
  {
   "cell_type": "code",
   "execution_count": 4,
   "id": "63eef76a-f339-4eef-b50b-6c3c105592dd",
   "metadata": {},
   "outputs": [
    {
     "data": {
      "text/plain": [
       "{'init_kw': {'num_epochs': 200, 'z_reg': 0.0001},\n",
       " 'kappa': 0.1,\n",
       " 'num_samples': 1000,\n",
       " 'subject': 'marco',\n",
       " 'model_kw': {'z_dim': 32},\n",
       " 'seed': 5,\n",
       " 'update_kw': {'num_epochs': 300, 'z_reg': 0.0001}}"
      ]
     },
     "execution_count": 4,
     "metadata": {},
     "output_type": "execute_result"
    }
   ],
   "source": [
    "config"
   ]
  },
  {
   "cell_type": "code",
   "execution_count": 13,
   "id": "6440e63f-9420-4f88-9e78-7dbca15bf4da",
   "metadata": {},
   "outputs": [
    {
     "data": {
      "text/plain": [
       "dict_keys(['losses', 'min_loss', 'best_state', 'last_state'])"
      ]
     },
     "execution_count": 13,
     "metadata": {},
     "output_type": "execute_result"
    }
   ],
   "source": [
    "from jarvis.utils import array2tensor\n",
    "\n",
    "ckpt = array2tensor(manager.ckpts[key])\n",
    "ckpt.keys()"
   ]
  },
  {
   "cell_type": "code",
   "execution_count": 15,
   "id": "e56e35d4-5d75-4638-bb9b-a7773c39f552",
   "metadata": {},
   "outputs": [
    {
     "data": {
      "application/vnd.jupyter.widget-view+json": {
       "model_id": "6eebc1576b62441b9faf23a497f66832",
       "version_major": 2,
       "version_minor": 0
      },
      "text/plain": [
       "Fetching beliefs:   0%|                                                                                       …"
      ]
     },
     "metadata": {},
     "output_type": "display_data"
    },
    {
     "data": {
      "text/plain": [
       "14"
      ]
     },
     "execution_count": 15,
     "metadata": {},
     "output_type": "execute_result"
    }
   ],
   "source": [
    "manager.setup(config)\n",
    "manager.load_ckpt(manager.ckpts[key])"
   ]
  },
  {
   "cell_type": "code",
   "execution_count": 38,
   "id": "26eea15d-e711-46f6-9c77-84289957c487",
   "metadata": {},
   "outputs": [
    {
     "data": {
      "application/vnd.jupyter.widget-view+json": {
       "model_id": "0ffe721d331e4ff58885642f05f946c5",
       "version_major": 2,
       "version_minor": 0
      },
      "text/plain": [
       "  0%|                                                                                                         …"
      ]
     },
     "metadata": {},
     "output_type": "display_data"
    }
   ],
   "source": [
    "beliefs_train = torch.cat([manager.beliefs[i] for i in manager.idxs['train']])\n",
    "manager.belief_vae.rng = np.random.default_rng(manager.seed) # reset train/val split\n",
    "stats = manager.belief_vae.regress(\n",
    "    beliefs_train, beliefs_train, num_epochs=10,\n",
    "    pbar_kw={'disable': False}, **manager.regress_kw,\n",
    ")"
   ]
  },
  {
   "cell_type": "code",
   "execution_count": 26,
   "id": "ef2095aa-df3d-4d6e-a409-1cf98415baf2",
   "metadata": {},
   "outputs": [
    {
     "data": {
      "text/plain": [
       "dict_keys(['reg_coefs', 'alphas', 'split', 'batch_size', 'num_epochs', 'losses_train', 'losses_val', 'steps', 't_train', 'queries', 'fits', 'optimality', 'fvu', 'lr', 'momentum'])"
      ]
     },
     "execution_count": 26,
     "metadata": {},
     "output_type": "execute_result"
    }
   ],
   "source": [
    "stats.keys()"
   ]
  },
  {
   "cell_type": "code",
   "execution_count": 40,
   "id": "9b2ec91b-4bef-4070-806c-d51f4cea3990",
   "metadata": {},
   "outputs": [
    {
     "data": {
      "text/plain": [
       "array([7.234524 , 7.2044373, 7.0157027, 6.928103 , 6.8271475, 6.795452 ,\n",
       "       6.8114376, 6.79072  , 6.7339153, 6.738489 ], dtype=float32)"
      ]
     },
     "execution_count": 40,
     "metadata": {},
     "output_type": "execute_result"
    }
   ],
   "source": [
    "stats['losses_train'][:, 0]"
   ]
  },
  {
   "cell_type": "code",
   "execution_count": 42,
   "id": "30e7a33d-1880-423d-bf72-3163d23e20da",
   "metadata": {},
   "outputs": [],
   "source": [
    "beliefs_test = torch.cat([manager.beliefs[i] for i in manager.idxs['test']])\n",
    "with torch.no_grad():\n",
    "    _, _, recons = manager.belief_vae(beliefs_test)\n",
    "kl_losses, _ = zip(*[\n",
    "    manager.belief_vae.p_x.kl_divergence(beliefs_test[i], recons[i])\n",
    "    for i in range(len(recons))\n",
    "])"
   ]
  },
  {
   "cell_type": "code",
   "execution_count": 8,
   "id": "38a1787e-8777-4223-b7a5-b6b028960293",
   "metadata": {},
   "outputs": [],
   "source": [
    "from jarvis.utils import array2tensor\n",
    "\n",
    "key = keys[0]\n",
    "config = manager.configs[key]\n",
    "ckpt = array2tensor(manager.ckpts[key])"
   ]
  },
  {
   "cell_type": "code",
   "execution_count": 10,
   "id": "f97f538e-20fa-4271-9e0c-74f55c85ac38",
   "metadata": {},
   "outputs": [
    {
     "data": {
      "text/plain": [
       "dict_keys(['pis', 'As', 'lls', 'gammas', 'log_Zs', 'log_gammas', 'log_xis'])"
      ]
     },
     "execution_count": 10,
     "metadata": {},
     "output_type": "execute_result"
    }
   ],
   "source": [
    "ckpt['workspace'].keys()"
   ]
  },
  {
   "cell_type": "code",
   "execution_count": 16,
   "id": "cbd6ccd3-4e01-405e-9b97-27748f22d319",
   "metadata": {},
   "outputs": [
    {
     "data": {
      "image/png": "[encoded data removed]",
      "text/plain": [
       "<Figure size 480x270 with 1 Axes>"
      ]
     },
     "metadata": {},
     "output_type": "display_data"
    }
   ],
   "source": [
    "_, ax = plt.subplots()\n",
    "ax.plot(torch.stack(ckpt['workspace']['pis']))\n",
    "plt.show()"
   ]
  },
  {
   "cell_type": "code",
   "execution_count": 4,
   "id": "581e1b36-e581-43ff-8fae-92bb6e47e62b",
   "metadata": {},
   "outputs": [
    {
     "data": {
      "text/plain": [
       "inf"
      ]
     },
     "execution_count": 4,
     "metadata": {},
     "output_type": "execute_result"
    }
   ],
   "source": [
    "manager.setup(config)"
   ]
  },
  {
   "cell_type": "code",
   "execution_count": 5,
   "id": "730c228a-d5cb-4f1c-a05b-dd31bb8a5dc4",
   "metadata": {},
   "outputs": [],
   "source": [
    "manager.reset()"
   ]
  },
  {
   "cell_type": "code",
   "execution_count": 11,
   "id": "713631fa-2016-41ac-a2ea-15ec9c2ffce9",
   "metadata": {},
   "outputs": [
    {
     "data": {
      "application/vnd.jupyter.widget-view+json": {
       "model_id": "061ded712da5464e897508cee7e4c8e1",
       "version_major": 2,
       "version_minor": 0
      },
      "text/plain": [
       "  0%|                                                                                                         …"
      ]
     },
     "metadata": {},
     "output_type": "display_data"
    }
   ],
   "source": [
    "manager.step()"
   ]
  },
  {
   "cell_type": "code",
   "execution_count": 12,
   "id": "30e5ff5b-d311-4e24-a073-fa8ca59feeeb",
   "metadata": {},
   "outputs": [],
   "source": [
    "ckpt = manager.get_ckpt()"
   ]
  },
  {
   "cell_type": "code",
   "execution_count": 14,
   "id": "74497ea5-853a-435e-acd4-777e5db29fd3",
   "metadata": {},
   "outputs": [
    {
     "data": {
      "text/plain": [
       "1"
      ]
     },
     "execution_count": 14,
     "metadata": {},
     "output_type": "execute_result"
    }
   ],
   "source": [
    "manager.load_ckpt(ckpt)"
   ]
  },
  {
   "cell_type": "code",
   "execution_count": 16,
   "id": "84d452b6-fa01-417c-9885-b0c7784b0bc0",
   "metadata": {},
   "outputs": [
    {
     "data": {
      "text/plain": [
       "{'num_features': [], 'nonlinearity': 'Softplus'}"
      ]
     },
     "execution_count": 16,
     "metadata": {},
     "output_type": "execute_result"
    }
   ],
   "source": [
    "config.policy"
   ]
  },
  {
   "cell_type": "code",
   "execution_count": 15,
   "id": "3da3efa3-58eb-4166-b199-f7b02ec8480d",
   "metadata": {},
   "outputs": [
    {
     "data": {
      "text/plain": [
       "{'alpha_A': 100.0, 'off_ratio': 0.1, 'l2_reg': 0.001, 'ent_reg': 0.0001}"
      ]
     },
     "execution_count": 15,
     "metadata": {},
     "output_type": "execute_result"
    }
   ],
   "source": [
    "config.reg_coefs"
   ]
  },
  {
   "cell_type": "markdown",
   "id": "ab6bb5a2-3814-4473-b7c1-00e78aac9d6d",
   "metadata": {},
   "source": []
  },
  {
   "cell_type": "code",
   "execution_count": null,
   "id": "e3e2b91d-247a-4121-85b5-41b846cefd5b",
   "metadata": {},
   "outputs": [],
   "source": []
  },
  {
   "cell_type": "code",
   "execution_count": 2,
   "id": "df88b8df-7734-4eda-8dd7-fc3923209d39",
   "metadata": {},
   "outputs": [],
   "source": [
    "from hexarena.scripts.common import get_block_ids, create_env_and_model\n",
    "\n",
    "subject, kappa, num_samples = 'marco', 0.1, 1000\n",
    "num_macros = 10\n",
    "env, model = create_env_and_model(subject, kappa)\n",
    "block_ids = get_block_ids(subject, kappa)"
   ]
  },
  {
   "cell_type": "code",
   "execution_count": 3,
   "id": "0c61ea9e-0966-4d99-bf93-401b02fc2205",
   "metadata": {},
   "outputs": [
    {
     "data": {
      "application/vnd.jupyter.widget-view+json": {
       "model_id": "bfb517d0ae6845ee8d60f265ebe39bd3",
       "version_major": 2,
       "version_minor": 0
      },
      "text/plain": [
       "Collect data:   0%|                                                                                           …"
      ]
     },
     "metadata": {},
     "output_type": "display_data"
    }
   ],
   "source": [
    "from hexarena.scripts.compute_beliefs import fetch_beliefs\n",
    "\n",
    "knowns, beliefs, actions = [], [], []\n",
    "for session_id, block_idx in tqdm(block_ids, desc='Collect data', unit='block', leave=True):\n",
    "    _, _actions, _knowns, _beliefs = fetch_beliefs(\n",
    "        subject, kappa, num_samples, session_id, block_idx,\n",
    "    )\n",
    "    _actions = env.monkey.merge_actions(_actions, num_macros)\n",
    "    knowns.append(torch.tensor(_knowns, dtype=torch.float)[:-1])\n",
    "    beliefs.append(_beliefs[:-1])\n",
    "    actions.append(torch.tensor(_actions, dtype=torch.long))"
   ]
  },
  {
   "cell_type": "code",
   "execution_count": 4,
   "id": "7d20931e-593a-4077-aeac-b6b1ad0871a5",
   "metadata": {},
   "outputs": [],
   "source": [
    "from hexarena.scripts.compress_beliefs import fetch_best_vae\n",
    "\n",
    "z_dim = 4\n",
    "config, belief_vae = fetch_best_vae(subject, kappa, num_samples, z_dim)"
   ]
  },
  {
   "cell_type": "code",
   "execution_count": 5,
   "id": "b281ed9e-6e4d-42f8-b67d-e680c42a02c8",
   "metadata": {},
   "outputs": [
    {
     "data": {
      "text/plain": [
       "{'z_dim': 4,\n",
       " 'subject': 'marco',\n",
       " 'kappa': 0.1,\n",
       " 'regress_kw': {'train_encoder': True,\n",
       "  'l2_reg': 0.001,\n",
       "  'ent_reg': 0.0001,\n",
       "  'lr': 0.005,\n",
       "  'z_reg': 0.01,\n",
       "  'momentum': 0.9,\n",
       "  'train_decoder': True},\n",
       " 'split': 0.95,\n",
       " 'num_samples': 1000,\n",
       " 'seed': 2,\n",
       " 'vae_kw': {'encoder': None, 'decoder': None}}"
      ]
     },
     "execution_count": 5,
     "metadata": {},
     "output_type": "execute_result"
    }
   ],
   "source": [
    "config"
   ]
  },
  {
   "cell_type": "code",
   "execution_count": 11,
   "id": "e82d2759-f68d-43b1-b11d-dae57f24cf63",
   "metadata": {},
   "outputs": [],
   "source": [
    "from irc.hmp import HiddenMarkovPolicy\n",
    "\n",
    "z_dim = 4\n",
    "num_policies = 3\n",
    "policy = {\n",
    "    'num_features': [], 'nonlinearity': 'Softplus',\n",
    "}\n",
    "\n",
    "hmp = HiddenMarkovPolicy(\n",
    "    model.p_s, z_dim, num_macros, num_policies=num_policies,\n",
    "    ebd_k=model.ebd_k, ebd_b=model.ebd_b, policy=policy,\n",
    ")"
   ]
  },
  {
   "cell_type": "code",
   "execution_count": 15,
   "id": "52e75d06-1101-42d0-8b0f-eec41823b0ce",
   "metadata": {},
   "outputs": [],
   "source": [
    "hmp.reset(0)"
   ]
  },
  {
   "cell_type": "code",
   "execution_count": null,
   "id": "9110162a-d82c-4b0e-90a1-febb74ab02de",
   "metadata": {},
   "outputs": [],
   "source": [
    "stats = hmp.train_belief_vae(torch.cat(beliefs), seed=0)"
   ]
  }
 ],
 "metadata": {
  "kernelspec": {
   "display_name": "Python 3 (ipykernel)",
   "language": "python",
   "name": "python3"
  },
  "language_info": {
   "codemirror_mode": {
    "name": "ipython",
    "version": 3
   },
   "file_extension": ".py",
   "mimetype": "text/x-python",
   "name": "python",
   "nbconvert_exporter": "python",
   "pygments_lexer": "ipython3",
   "version": "3.12.8"
  }
 },
 "nbformat": 4,
 "nbformat_minor": 5
}
