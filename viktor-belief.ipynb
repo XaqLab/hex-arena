{
 "cells": [
  {
   "cell_type": "code",
   "execution_count": 1,
   "id": "e5c563a4-46c0-441c-9430-0b5d8dd09250",
   "metadata": {},
   "outputs": [],
   "source": [
    "%matplotlib inline\n",
    "import matplotlib.pyplot as plt\n",
    "from matplotlib.animation import FuncAnimation\n",
    "from IPython.display import HTML\n",
    "plt.rcParams.update({\n",
    "    'figure.figsize': (4.8, 2.7), 'font.size': 15, 'lines.linewidth': 2,\n",
    "    'xtick.labelsize': 'small', 'ytick.labelsize': 'small',\n",
    "    'axes.spines.top': False, 'axes.spines.right': False,\n",
    "    'savefig.dpi': 100,\n",
    "})\n",
    "\n",
    "import numpy as np\n",
    "from pathlib import Path\n",
    "import os, torch\n",
    "\n",
    "FIG_PATH = Path('figures')\n",
    "os.makedirs(FIG_PATH, exist_ok=True)\n",
    "STORE_PATH = Path('store')\n",
    "rng = np.random.default_rng()"
   ]
  },
  {
   "cell_type": "code",
   "execution_count": 2,
   "id": "96509bb5-1f0b-4429-9e55-99644cc18625",
   "metadata": {},
   "outputs": [
    {
     "name": "stdout",
     "output_type": "stream",
     "text": [
      "36 blocks across 7 sessions found\n"
     ]
    }
   ],
   "source": [
    "from hexarena.utils import get_valid_blocks, load_monkey_data, align_monkey_data\n",
    "\n",
    "filename = STORE_PATH/'foraging_masterTable/data_viktor.mat'\n",
    "meta = get_valid_blocks(filename, min_pos_ratio=0.5, min_gaze_ratio=0.1)\n",
    "num_blocks = sum([len(meta[s_id]) for s_id in meta])\n",
    "print('{} blocks across {} sessions found'.format(num_blocks, len(meta)))"
   ]
  },
  {
   "cell_type": "code",
   "execution_count": 3,
   "id": "667660c1-2f54-4197-9512-71ebd0c0e881",
   "metadata": {},
   "outputs": [
    {
     "name": "stdout",
     "output_type": "stream",
     "text": [
      "36 blocks of collected\n"
     ]
    }
   ],
   "source": [
    "block_ids = []\n",
    "for session_id in meta:\n",
    "    for block_idx in meta[session_id]:\n",
    "        block_data = load_monkey_data(filename, session_id, block_idx)\n",
    "        if set(block_data['taus'])==set([7., 14., 21.]):\n",
    "            block_ids.append((session_id, block_idx))\n",
    "block_ids = sorted(block_ids)\n",
    "print(f'{len(block_ids)} blocks of collected')"
   ]
  },
  {
   "cell_type": "code",
   "execution_count": 4,
   "id": "f7b528ea-3a98-45dc-8e37-bb835293cf2c",
   "metadata": {},
   "outputs": [],
   "source": [
    "from hexarena.env import SimilarBoxForagingEnv\n",
    "\n",
    "env = SimilarBoxForagingEnv(\n",
    "    box={\n",
    "        '_target_': 'hexarena.box.GammaLinearBox', 'num_patches': 1, 'num_levels': 40,\n",
    "    },\n",
    "    boxes=[{'tau': tau} for tau in [21, 14, 7]],\n",
    ")"
   ]
  },
  {
   "cell_type": "code",
   "execution_count": 5,
   "id": "67ac68e5-cc4a-4047-9b8c-eb00bd56dcc0",
   "metadata": {},
   "outputs": [],
   "source": [
    "from irc.model import SamplingBeliefModel\n",
    "\n",
    "phi = {\n",
    "    'embedder._target_': 'hexarena.box.LinearBoxStateEmbedder',\n",
    "    'mlp_features': [6],\n",
    "}\n",
    "\n",
    "model = SamplingBeliefModel(\n",
    "    env, p_s={'phis': [phi]*3},\n",
    ")\n",
    "\n",
    "def observation_weight(obs_drawn, obs_actual, env):\n",
    "    if obs_drawn[-1]!=obs_actual[-1]:\n",
    "        return 0.\n",
    "    weight = 1.\n",
    "    dpos = np.array(env.arena.anchors[obs_drawn[0]])-np.array(env.arena.anchors[obs_actual[0]])\n",
    "    weight *= np.exp(-(dpos**2).sum()/(0.5**2))\n",
    "    dgaze = np.array(env.arena.anchors[obs_drawn[1]])-np.array(env.arena.anchors[obs_actual[1]])\n",
    "    weight *= np.exp(-(dgaze**2).sum()/(0.5**2))\n",
    "    for i in range(env.num_boxes):\n",
    "        if obs_drawn[i+2]==env.boxes[i].num_grades or obs_actual[i+2]==env.boxes[i].num_grades:\n",
    "            weight *= float(obs_drawn[i+2]==obs_actual[i+2])\n",
    "        else:\n",
    "            weight *= np.exp(-np.abs(obs_drawn[i+2]-obs_actual[i+2])/(0.8*env.boxes[i].num_grades))\n",
    "    return weight\n",
    "model.get_weight = lambda obs_drawn, obs_actual: observation_weight(obs_drawn, obs_actual, env)\n",
    "\n",
    "model.use_sample = True\n",
    "model.num_samples = 2000\n",
    "model.estimate_kw.sga_kw.pbar_kw.disable = True"
   ]
  },
  {
   "cell_type": "code",
   "execution_count": 6,
   "id": "4a34a79e-d7e7-4769-aebb-4150fdf77e6a",
   "metadata": {},
   "outputs": [
    {
     "data": {
      "application/vnd.jupyter.widget-view+json": {
       "model_id": "defbb7732afc42a79f102b3d56c53eb4",
       "version_major": 2,
       "version_minor": 0
      },
      "text/plain": [
       "  0%|                                                                                                         …"
      ]
     },
     "metadata": {},
     "output_type": "display_data"
    },
    {
     "data": {
      "application/vnd.jupyter.widget-view+json": {
       "model_id": "",
       "version_major": 2,
       "version_minor": 0
      },
      "text/plain": [
       "Compute beliefs:   0%|                                                                                        …"
      ]
     },
     "metadata": {},
     "output_type": "display_data"
    }
   ],
   "source": [
    "from jarvis.utils import tqdm\n",
    "\n",
    "rng.shuffle(block_ids)\n",
    "for session_id, block_idx in tqdm(block_ids, unit='block'):\n",
    "    savename = 'store/beliefs/viktor/{}_{}.pt'.format(session_id, block_idx)\n",
    "    if os.path.exists(savename):\n",
    "        continue\n",
    "    \n",
    "    block_data = load_monkey_data(filename, session_id, block_idx)\n",
    "    block_data = align_monkey_data(block_data)\n",
    "    env_data = env.convert_experiment_data(block_data)\n",
    "    observations, actions, _ = env.extract_observation_action_reward(env_data)\n",
    "\n",
    "    knowns, beliefs, infos = model.compute_beliefs(observations, actions, pbar_kw={'leave': False})\n",
    "    torch.save({\n",
    "        'knowns': knowns, 'beliefs': beliefs, 'infos': infos,\n",
    "        **env_data,\n",
    "    }, savename)"
   ]
  },
  {
   "cell_type": "raw",
   "id": "3f6a0d18-e1a7-4954-8638-0d0c0d87537c",
   "metadata": {},
   "source": [
    "logps, _ = model.p_s.s_dists[0].loglikelihoods(\n",
    "    model.p_s.s_dists[0].all_xs,\n",
    "    model.p_s.set_param_vec(0, belief),\n",
    ")\n",
    "\n",
    "num_levels = 50\n",
    "p = np.zeros((num_levels, num_levels+1))\n",
    "for level in range(1, num_levels+1):\n",
    "    for timer in range(level+1):\n",
    "        p[level-1, timer] = logps[env.boxes[0]._state_count(level-1)+timer].exp().item()"
   ]
  },
  {
   "cell_type": "code",
   "execution_count": null,
   "id": "9e9cfd4c-14df-4631-b2ff-4df86ce5f9d3",
   "metadata": {},
   "outputs": [],
   "source": [
    "knowns, beliefs, infos = model.compute_beliefs(observations[:7], actions[:6], pbar_kw={'leave': True})"
   ]
  },
  {
   "cell_type": "code",
   "execution_count": null,
   "id": "04a989b4-a168-4814-ba0f-922d161cec88",
   "metadata": {},
   "outputs": [],
   "source": [
    "logps = []\n",
    "for belief in beliefs:\n",
    "# for belief in [belief]:\n",
    "    _logps, _ = model.p_s.s_dists[0].loglikelihoods(\n",
    "        model.p_s.s_dists[0].all_xs,\n",
    "        model.p_s.set_param_vec(0, belief),\n",
    "    )\n",
    "    logps.append(_logps)\n",
    "logps = torch.stack(logps)"
   ]
  },
  {
   "cell_type": "code",
   "execution_count": null,
   "id": "a880c55f-cdd9-42a4-89db-e83373c44c49",
   "metadata": {},
   "outputs": [],
   "source": [
    "num_levels = env.boxes[0].num_levels\n",
    "ps_box0 = np.zeros((len(logps), num_levels, num_levels+1))\n",
    "for t in range(len(logps)):\n",
    "    for level in range(1, num_levels+1):\n",
    "        for timer in range(level+1):\n",
    "            ps_box0[t, level-1, timer] = logps[t, env.boxes[0]._sub2idx(level, timer)].exp().item()"
   ]
  },
  {
   "cell_type": "code",
   "execution_count": null,
   "id": "66ffad26-4c13-41fe-8d23-5ae2afbc8055",
   "metadata": {},
   "outputs": [],
   "source": [
    "vmin, vmax = 0, ps_box0.max()\n",
    "fig, ax = plt.subplots(figsize=(5, 5))\n",
    "h = ax.imshow(ps_box0[0], vmin=0, vmax=vmax, cmap='Reds')\n",
    "ax.set_xlabel('Timer')\n",
    "ax.set_ylabel('Interval')\n",
    "h_title = ax.set_title('')\n",
    "\n",
    "def update(t):\n",
    "    h.set_data(ps_box0[t])\n",
    "    h_title.set_text(r'$t$='+'{}'.format(t))\n",
    "    return h, h_title\n",
    "\n",
    "ani = FuncAnimation(fig, update, frames=range(len(ps_box0)), blit=True)\n",
    "\n",
    "HTML(ani.to_jshtml())"
   ]
  },
  {
   "cell_type": "code",
   "execution_count": null,
   "id": "63ab2306-baef-4e63-a2a1-d6741c5e85d7",
   "metadata": {},
   "outputs": [],
   "source": []
  }
 ],
 "metadata": {
  "kernelspec": {
   "display_name": "Python 3 (ipykernel)",
   "language": "python",
   "name": "python3"
  },
  "language_info": {
   "codemirror_mode": {
    "name": "ipython",
    "version": 3
   },
   "file_extension": ".py",
   "mimetype": "text/x-python",
   "name": "python",
   "nbconvert_exporter": "python",
   "pygments_lexer": "ipython3",
   "version": "3.11.8"
  }
 },
 "nbformat": 4,
 "nbformat_minor": 5
}
