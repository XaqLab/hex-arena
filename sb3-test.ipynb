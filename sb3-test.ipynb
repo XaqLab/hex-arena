{
 "cells": [
  {
   "cell_type": "code",
   "execution_count": 1,
   "id": "2114594f-8a3e-4973-82db-89b8f289a0fc",
   "metadata": {},
   "outputs": [],
   "source": [
    "from hexarena.env import ForagingEnv\n",
    "\n",
    "env = ForagingEnv()"
   ]
  },
  {
   "cell_type": "code",
   "execution_count": 2,
   "id": "16a105b0-3fa8-47d9-81dd-2df582d85720",
   "metadata": {},
   "outputs": [],
   "source": [
    "observation, _ = env.reset()\n",
    "\n",
    "obss = []\n",
    "for _ in range(1000):\n",
    "    observation, *_ = env.step(env.action_space.sample())\n",
    "    obss.append([*observation['monkey'], *observation['color'], observation['rewarded']])"
   ]
  },
  {
   "cell_type": "raw",
   "id": "3587e001-684c-4d74-9255-fb2a8add0aec",
   "metadata": {},
   "source": [
    "from stable_baselines3 import PPO\n",
    "from irc.utils import ProgressBarCallback\n",
    "from jarvis.utils import tqdm\n",
    "\n",
    "num_steps = 2**5\n",
    "algo = PPO(env=env, policy='MultiInputPolicy')\n",
    "algo.policy.set_training_mode(True)\n",
    "# with tqdm(total=num_steps, unit='step', desc='Training agent') as pbar:\n",
    "#     algo.learn(\n",
    "#         total_timesteps=num_steps,\n",
    "#         # callback=ProgressBarCallback(pbar),\n",
    "#     )\n",
    "algo.learn(total_timesteps=num_steps, progress_bar=True)\n",
    "algo.policy.set_training_mode(False)"
   ]
  }
 ],
 "metadata": {
  "kernelspec": {
   "display_name": "Python 3 (ipykernel)",
   "language": "python",
   "name": "python3"
  },
  "language_info": {
   "codemirror_mode": {
    "name": "ipython",
    "version": 3
   },
   "file_extension": ".py",
   "mimetype": "text/x-python",
   "name": "python",
   "nbconvert_exporter": "python",
   "pygments_lexer": "ipython3",
   "version": "3.12.9"
  }
 },
 "nbformat": 4,
 "nbformat_minor": 5
}
