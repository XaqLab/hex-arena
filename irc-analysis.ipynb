{
 "cells": [
  {
   "cell_type": "code",
   "execution_count": 1,
   "id": "53d3a226-34d0-47f5-a81c-18996f78ab68",
   "metadata": {
    "tags": []
   },
   "outputs": [],
   "source": [
    "%matplotlib inline\n",
    "import matplotlib.pyplot as plt\n",
    "from matplotlib.animation import FuncAnimation\n",
    "plt.rcParams.update({\n",
    "    'figure.figsize': (4.8, 2.7), 'font.size': 15, 'lines.linewidth': 2,\n",
    "    'xtick.labelsize': 'small', 'ytick.labelsize': 'small',\n",
    "    'axes.spines.top': False, 'axes.spines.right': False,\n",
    "    'savefig.dpi': 600,\n",
    "})\n",
    "\n",
    "import numpy as np\n",
    "from irc.manager import AgentManager\n",
    "\n",
    "rng = np.random.default_rng()"
   ]
  },
  {
   "cell_type": "code",
   "execution_count": 2,
   "id": "299647de-863b-41fc-a9a5-f18c1b36dc7d",
   "metadata": {
    "tags": []
   },
   "outputs": [],
   "source": [
    "manager = AgentManager('store', defaults='irc-defaults.yaml', eval_interval=1, disp_interval=1)"
   ]
  },
  {
   "cell_type": "code",
   "execution_count": 3,
   "id": "58383956-1315-4ec7-b7ed-1fc8a9d864f1",
   "metadata": {
    "tags": []
   },
   "outputs": [
    {
     "name": "stdout",
     "output_type": "stream",
     "text": [
      "Processing F7EDF5E3...\n",
      "Checkpoint (epoch 10) loaded.\n"
     ]
    }
   ],
   "source": [
    "config = manager.get_config({'seed': 1})\n",
    "manager.process(config, num_epochs=10)"
   ]
  }
 ],
 "metadata": {
  "kernelspec": {
   "display_name": "Python 3 (ipykernel)",
   "language": "python",
   "name": "python3"
  },
  "language_info": {
   "codemirror_mode": {
    "name": "ipython",
    "version": 3
   },
   "file_extension": ".py",
   "mimetype": "text/x-python",
   "name": "python",
   "nbconvert_exporter": "python",
   "pygments_lexer": "ipython3",
   "version": "3.9.16"
  }
 },
 "nbformat": 4,
 "nbformat_minor": 5
}
