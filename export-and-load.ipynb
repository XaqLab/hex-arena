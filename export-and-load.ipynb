{
 "cells": [
  {
   "cell_type": "code",
   "execution_count": null,
   "id": "3783ef90-c97a-46af-93e7-b512d241d091",
   "metadata": {},
   "outputs": [],
   "source": [
    "from hexarena import STORE_DIR\n",
    "\n",
    "kappa, num_samples = 0.1, 1000"
   ]
  },
  {
   "cell_type": "code",
   "execution_count": null,
   "id": "c3860733-da2c-4359-8063-244f9734383b",
   "metadata": {},
   "outputs": [],
   "source": [
    "from hexarena.scripts.compute_beliefs import create_manager\n",
    "\n",
    "subject = 'viktor'\n",
    "manager = create_manager(subject, kappa, num_samples)\n",
    "# manager.export_tar(STORE_DIR/f'{subject}_beliefs.tar.gz')\n",
    "manager.load_tar(STORE_DIR/f'{subject}_beliefs.tar.gz')"
   ]
  },
  {
   "cell_type": "code",
   "execution_count": null,
   "id": "779d4551-93b2-41cc-bc0d-a97453c34baa",
   "metadata": {},
   "outputs": [],
   "source": [
    "from hexarena.scripts.train_nets import create_manager\n",
    "\n",
    "subject = 'marco'\n",
    "manager = create_manager(subject, kappa, num_samples)\n",
    "# manager.export_tar(STORE_DIR/f'{subject}_nets.tar.gz')\n",
    "manager.load_tar(STORE_DIR/f'{subject}_nets.tar.gz')"
   ]
  }
 ],
 "metadata": {
  "kernelspec": {
   "display_name": "Python 3 (ipykernel)",
   "language": "python",
   "name": "python3"
  },
  "language_info": {
   "codemirror_mode": {
    "name": "ipython",
    "version": 3
   },
   "file_extension": ".py",
   "mimetype": "text/x-python",
   "name": "python",
   "nbconvert_exporter": "python",
   "pygments_lexer": "ipython3",
   "version": "3.12.8"
  }
 },
 "nbformat": 4,
 "nbformat_minor": 5
}
