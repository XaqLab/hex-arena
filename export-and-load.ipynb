{
 "cells": [
  {
   "cell_type": "code",
   "execution_count": null,
   "id": "3783ef90-c97a-46af-93e7-b512d241d091",
   "metadata": {},
   "outputs": [],
   "source": [
    "from hexarena import STORE_DIR\n",
    "\n",
    "kappa, num_samples = 0.1, 1000\n",
    "to_export = True"
   ]
  },
  {
   "cell_type": "code",
   "execution_count": null,
   "id": "c3860733-da2c-4359-8063-244f9734383b",
   "metadata": {},
   "outputs": [],
   "source": [
    "from hexarena.scripts.compute_beliefs import create_manager\n",
    "\n",
    "subject = 'marco'\n",
    "manager = create_manager(subject, kappa, num_samples)\n",
    "try:\n",
    "    if to_export:\n",
    "        manager.export_tar(STORE_DIR/f'{subject}_beliefs.tar.gz')\n",
    "    else:\n",
    "        manager.load_tar(STORE_DIR/f'{subject}_beliefs.tar.gz')\n",
    "except:\n",
    "    ..."
   ]
  },
  {
   "cell_type": "code",
   "execution_count": null,
   "id": "533b7f80-81ab-4c90-8bc8-ce86af20be2e",
   "metadata": {},
   "outputs": [],
   "source": [
    "from hexarena.scripts.compress_beliefs import create_manager\n",
    "\n",
    "subject = 'marco'\n",
    "manager = create_manager(subject, kappa, num_samples)\n",
    "try:\n",
    "    if to_export:\n",
    "        manager.export_tar(STORE_DIR/f'{subject}_vaes.tar.gz')\n",
    "    else:\n",
    "        manager.load_tar(STORE_DIR/f'{subject}_vaes.tar.gz')\n",
    "except:\n",
    "    ..."
   ]
  },
  {
   "cell_type": "code",
   "execution_count": null,
   "id": "779d4551-93b2-41cc-bc0d-a97453c34baa",
   "metadata": {},
   "outputs": [],
   "source": [
    "from hexarena.scripts.train_nets import create_manager\n",
    "\n",
    "subject = 'marco'\n",
    "manager = create_manager(subject, kappa, num_samples, read_only=True)\n",
    "try:\n",
    "    if to_export:\n",
    "        manager.export_tar(STORE_DIR/f'{subject}_nets.tar.gz')\n",
    "    else:\n",
    "        manager.load_tar(STORE_DIR/f'{subject}_nets.tar.gz')\n",
    "except:\n",
    "    ..."
   ]
  },
  {
   "cell_type": "code",
   "execution_count": null,
   "id": "c5ac8008-5d20-40d2-8500-875462fe5299",
   "metadata": {},
   "outputs": [],
   "source": [
    "from hexarena.scripts.train_agents import create_manager\n",
    "\n",
    "subject = 'marco'\n",
    "manager = create_manager(subject, kappa, num_samples)\n",
    "try:\n",
    "    if to_export:\n",
    "        manager.export_tar(STORE_DIR/f'{subject}_agents.tar.gz')\n",
    "    else:\n",
    "        manager.load_tar(STORE_DIR/f'{subject}_agents.tar.gz')\n",
    "except:\n",
    "    ..."
   ]
  }
 ],
 "metadata": {
  "kernelspec": {
   "display_name": "Python 3 (ipykernel)",
   "language": "python",
   "name": "python3"
  },
  "language_info": {
   "codemirror_mode": {
    "name": "ipython",
    "version": 3
   },
   "file_extension": ".py",
   "mimetype": "text/x-python",
   "name": "python",
   "nbconvert_exporter": "python",
   "pygments_lexer": "ipython3",
   "version": "3.12.8"
  }
 },
 "nbformat": 4,
 "nbformat_minor": 5
}
